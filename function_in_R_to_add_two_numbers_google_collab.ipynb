{
  "nbformat": 4,
  "nbformat_minor": 0,
  "metadata": {
    "colab": {
      "provenance": [],
      "authorship_tag": "ABX9TyO0wZJpnjS9I2oW/uAVLO/r",
      "include_colab_link": true
    },
    "kernelspec": {
      "name": "ir",
      "display_name": "R"
    },
    "language_info": {
      "name": "R"
    }
  },
  "cells": [
    {
      "cell_type": "markdown",
      "metadata": {
        "id": "view-in-github",
        "colab_type": "text"
      },
      "source": [
        "<a href=\"https://colab.research.google.com/github/senrabc/hello_quatro/blob/main/function_in_R_to_add_two_numbers_google_collab.ipynb\" target=\"_parent\"><img src=\"https://colab.research.google.com/assets/colab-badge.svg\" alt=\"Open In Colab\"/></a>"
      ]
    },
    {
      "cell_type": "code",
      "execution_count": null,
      "metadata": {
        "id": "a9ldgXO8dvNr"
      },
      "outputs": [],
      "source": []
    },
    {
      "cell_type": "code",
      "source": [
        "# prompt: Write me a function in R to add two numbers\n",
        "\n",
        "add_numbers <- function(a, b) {\n",
        "  a + b\n",
        "}\n",
        "\n",
        "\n",
        "result <- add_numbers(2, 2)\n",
        "print(result) # outputs 4"
      ],
      "metadata": {
        "colab": {
          "base_uri": "https://localhost:8080/"
        },
        "id": "-gibkfLnAec7",
        "outputId": "2477e1a5-0a38-48ec-9fbf-34dff99b473e"
      },
      "execution_count": 2,
      "outputs": [
        {
          "output_type": "stream",
          "name": "stdout",
          "text": [
            "[1] 4\n"
          ]
        }
      ]
    }
  ]
}